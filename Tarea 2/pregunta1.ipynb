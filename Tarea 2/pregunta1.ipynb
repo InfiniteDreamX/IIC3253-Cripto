{
 "cells": [
  {
   "cell_type": "markdown",
   "metadata": {},
   "source": [
    "# Pregunta 1\n",
    "Estudiante: Jorge Pérez Facuse"
   ]
  },
  {
   "cell_type": "code",
   "execution_count": 26,
   "metadata": {},
   "outputs": [],
   "source": [
    "def davies_meyer(encrypt, l_key, l_message):\n",
    "    \n",
    "    def compresion(x):\n",
    "        u = x[:l_key]\n",
    "        v = x[l_key:l_key+l_message]\n",
    "        e = encrypt(u, v)\n",
    "        c = bytes([aa ^ bb for aa, bb in zip(e, v)])\n",
    "        return c\n",
    "    \n",
    "    return compresion"
   ]
  },
  {
   "cell_type": "markdown",
   "metadata": {},
   "source": [
    "Ahora definamos la funcion de pad"
   ]
  },
  {
   "cell_type": "code",
   "execution_count": 73,
   "metadata": {},
   "outputs": [],
   "source": [
    "def pad(message, l_block):\n",
    "    # Primero revisamos por cuantos bytes estoy fuera\n",
    "    message_len = len(message)\n",
    "    out = message_len % l_block\n",
    "\n",
    "    if out > 0:\n",
    "        #print(message_len, out)\n",
    "        pad1 = bytearray(l_block-out)\n",
    "        pad1[0] = 1\n",
    "        message = message + pad1\n",
    "    \n",
    "    # Ahora le agregamos el bloque con su largo\n",
    "    last_block = message_len.to_bytes(l_block, 'big')\n",
    "    #print(last_block, len(last_block))\n",
    "    #print(message, len(message))\n",
    "    return message + last_block"
   ]
  },
  {
   "cell_type": "markdown",
   "metadata": {},
   "source": [
    "Finalmente la construccion de merkle damgard"
   ]
  },
  {
   "cell_type": "code",
   "execution_count": 74,
   "metadata": {},
   "outputs": [],
   "source": [
    "def merkle_damgard(IV, comp, l_block):\n",
    "    \n",
    "    def hash_fn(message):\n",
    "        # Primero le metemos pad al mensage\n",
    "        message_padded = pad(message, l_block)\n",
    "        h = IV\n",
    "        #print(message_padded, len(message_padded))\n",
    "        # iteramos por los bloques del mensaje y vamos calculando los H\n",
    "        for i in range(len(message_padded) // l_block):\n",
    "            m = message_padded[i*l_block:(i+1)*l_block]\n",
    "            #print(m, len(m))\n",
    "            m = m + h\n",
    "            h = comp(m)\n",
    "        return h\n",
    "\n",
    "    return hash_fn"
   ]
  },
  {
   "cell_type": "code",
   "execution_count": null,
   "metadata": {},
   "outputs": [],
   "source": []
  },
  {
   "cell_type": "code",
   "execution_count": 6,
   "metadata": {},
   "outputs": [],
   "source": [
    "from Crypto.Cipher import AES\n",
    "\n",
    "def AES_128(key, message):\n",
    "  a = AES.new(key, AES.MODE_ECB)\n",
    "  return bytearray(a.encrypt(message))"
   ]
  },
  {
   "cell_type": "code",
   "execution_count": 75,
   "metadata": {},
   "outputs": [
    {
     "name": "stdout",
     "output_type": "stream",
     "text": [
      "44 12\n",
      "b'\\x00\\x00\\x00\\x00\\x00\\x00\\x00\\x00\\x00\\x00\\x00\\x00\\x00\\x00\\x00,' 16\n",
      "bytearray(b'Este es un mensaje de prueba para la tarea 2\\x01\\x00\\x00\\x00') 48\n",
      "bytearray(b'Este es un mensaje de prueba para la tarea 2\\x01\\x00\\x00\\x00\\x00\\x00\\x00\\x00\\x00\\x00\\x00\\x00\\x00\\x00\\x00\\x00\\x00\\x00\\x00,') 64\n",
      "bytearray(b'Este es un mensa') 16\n",
      "bytearray(b'je de prueba par') 16\n",
      "bytearray(b'a la tarea 2\\x01\\x00\\x00\\x00') 16\n",
      "bytearray(b'\\x00\\x00\\x00\\x00\\x00\\x00\\x00\\x00\\x00\\x00\\x00\\x00\\x00\\x00\\x00,') 16\n",
      "44 12\n",
      "b'\\x00\\x00\\x00\\x00\\x00\\x00\\x00\\x00\\x00\\x00\\x00\\x00\\x00\\x00\\x00,' 16\n",
      "bytearray(b'Este es un mensaje de Prueba para la tarea 2\\x01\\x00\\x00\\x00') 48\n",
      "bytearray(b'Este es un mensaje de Prueba para la tarea 2\\x01\\x00\\x00\\x00\\x00\\x00\\x00\\x00\\x00\\x00\\x00\\x00\\x00\\x00\\x00\\x00\\x00\\x00\\x00,') 64\n",
      "bytearray(b'Este es un mensa') 16\n",
      "bytearray(b'je de Prueba par') 16\n",
      "bytearray(b'a la tarea 2\\x01\\x00\\x00\\x00') 16\n",
      "bytearray(b'\\x00\\x00\\x00\\x00\\x00\\x00\\x00\\x00\\x00\\x00\\x00\\x00\\x00\\x00\\x00,') 16\n",
      "b'\\x00\\x00\\x00\\x00\\x00\\x00\\x00\\x00\\x00\\x00\\x00\\x00\\x00\\x00\\x00\\x10' 16\n",
      "bytearray(b'Un mensaje corto') 16\n",
      "bytearray(b'Un mensaje corto\\x00\\x00\\x00\\x00\\x00\\x00\\x00\\x00\\x00\\x00\\x00\\x00\\x00\\x00\\x00\\x10') 32\n",
      "bytearray(b'Un mensaje corto') 16\n",
      "bytearray(b'\\x00\\x00\\x00\\x00\\x00\\x00\\x00\\x00\\x00\\x00\\x00\\x00\\x00\\x00\\x00\\x10') 16\n",
      "b'\\x00\\x00\\x00\\x00\\x00\\x00\\x00\\x00\\x00\\x00\\x00\\x00\\x00\\x00\\x00\\x00' 16\n",
      "bytearray(b'') 0\n",
      "bytearray(b'\\x00\\x00\\x00\\x00\\x00\\x00\\x00\\x00\\x00\\x00\\x00\\x00\\x00\\x00\\x00\\x00') 16\n",
      "bytearray(b'\\x00\\x00\\x00\\x00\\x00\\x00\\x00\\x00\\x00\\x00\\x00\\x00\\x00\\x00\\x00\\x00') 16\n",
      "b'\\xe9\\xe8\\xac\\x12\\\\\\xf2\\xc8\\x16\\xceOV\\xc5Y.T\\xea'\n",
      "b'\\xb6\\xfb\\xc6a\\x12\\xae\\x95\\x1f\\xda\\xc5\\x13\\xde\\x06|Q\\x96'\n",
      "b'\\xc5\\xec\\xcdd\\xa4(R*\\xf0L*QtL\\xda\\x81'\n",
      "b'p\\xca \\xd8\\x9c\\xeb\\xe6\\xb1\\xce\\xcf\\x03\\xb2\\x9e\\x93\\x19\\xbc'\n"
     ]
    }
   ],
   "source": [
    "compresion = davies_meyer(AES_128, 16, 16)\n",
    "hash = merkle_damgard(bytearray(b'1234567890123456'), compresion, 16)\n",
    "\n",
    "s1 = bytearray(b'Este es un mensaje de prueba para la tarea 2')\n",
    "s2 = bytearray(b'Este es un mensaje de Prueba para la tarea 2')\n",
    "s3 = bytearray(b'Un mensaje corto')\n",
    "s4 = bytearray(b'')\n",
    "\n",
    "h1 = hash(s1)\n",
    "h2 = hash(s2)\n",
    "h3 = hash(s3)\n",
    "h4 = hash(s4)\n",
    "\n",
    "print(h1)\n",
    "print(h2)\n",
    "print(h3)\n",
    "print(h4)\n",
    "    "
   ]
  },
  {
   "cell_type": "code",
   "execution_count": null,
   "metadata": {},
   "outputs": [],
   "source": []
  }
 ],
 "metadata": {
  "interpreter": {
   "hash": "11938c6bc6919ae2720b4d5011047913343b08a43b18698fd82dedb0d4417594"
  },
  "kernelspec": {
   "display_name": "Python 3.9.1 64-bit",
   "language": "python",
   "name": "python3"
  },
  "language_info": {
   "codemirror_mode": {
    "name": "ipython",
    "version": 3
   },
   "file_extension": ".py",
   "mimetype": "text/x-python",
   "name": "python",
   "nbconvert_exporter": "python",
   "pygments_lexer": "ipython3",
   "version": "3.9.1"
  },
  "orig_nbformat": 4
 },
 "nbformat": 4,
 "nbformat_minor": 2
}
