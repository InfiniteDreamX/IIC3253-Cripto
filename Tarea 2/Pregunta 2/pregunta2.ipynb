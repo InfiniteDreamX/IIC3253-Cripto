{
 "cells": [
  {
   "cell_type": "markdown",
   "metadata": {},
   "source": [
    "# Pregunta 2\n",
    "Estudiante Jorge Pérez Facuse\n",
    "\n",
    "Partamos definiendo las clases RSAReceiver y Sender"
   ]
  },
  {
   "cell_type": "markdown",
   "metadata": {},
   "source": [
    "Obtengamos de INTERNET > https://medium.com/@prudywsh/how-to-generate-big-prime-numbers-miller-rabin-49e6e6af32fb una implementacion para obtener numeros primos grandes aleatorios"
   ]
  },
  {
   "cell_type": "code",
   "execution_count": 61,
   "metadata": {},
   "outputs": [],
   "source": [
    "from random import randrange, getrandbits\n",
    "def _is_prime(n, k=128):\n",
    "    \"\"\" Test if a number is prime\n",
    "        Args:\n",
    "            n -- int -- the number to test\n",
    "            k -- int -- the number of tests to do\n",
    "        return True if n is prime\n",
    "    \"\"\"\n",
    "    # Test if n is not even.\n",
    "    # But care, 2 is prime !\n",
    "    if n == 2 or n == 3:\n",
    "        return True\n",
    "    if n <= 1 or n % 2 == 0:\n",
    "        return False\n",
    "    # find r and s\n",
    "    s = 0\n",
    "    r = n - 1\n",
    "    while r & 1 == 0:\n",
    "        s += 1\n",
    "        r //= 2\n",
    "    # do k tests\n",
    "    for _ in range(k):\n",
    "        a = randrange(2, n - 1)\n",
    "        x = pow(a, r, n)\n",
    "        if x != 1 and x != n - 1:\n",
    "            j = 1\n",
    "            while j < s and x != n - 1:\n",
    "                x = pow(x, 2, n)\n",
    "                if x == 1:\n",
    "                    return False\n",
    "                j += 1\n",
    "            if x != n - 1:\n",
    "                return False\n",
    "    return True\n",
    "def _generate_prime_candidate(length):\n",
    "    \"\"\" Generate an odd integer randomly\n",
    "        Args:\n",
    "            length -- int -- the length of the number to generate, in bits\n",
    "        return a integer\n",
    "    \"\"\"\n",
    "    # generate random bits\n",
    "    p = getrandbits(length)\n",
    "    # apply a mask to set MSB and LSB to 1\n",
    "    p |= (1 << length - 1) | 1\n",
    "    return p\n",
    "def _generate_prime_number(length=1024):\n",
    "    \"\"\" Generate a prime\n",
    "        Args:\n",
    "            length -- int -- length of the prime to generate, in          bits\n",
    "        return a prime\n",
    "    \"\"\"\n",
    "    p = 4\n",
    "    # keep generating while the primality test fail\n",
    "    while not _is_prime(p, 128):\n",
    "        p = _generate_prime_candidate(length)\n",
    "    return p\n"
   ]
  },
  {
   "cell_type": "markdown",
   "metadata": {},
   "source": [
    "Ahora una implementacion para encontrar un coprimo y una para convertir de ints a bytes sin darle el length del arreglo https://stackoverflow.com/questions/70446319/python-integer-to-bytes-object-smallest-possible-size"
   ]
  },
  {
   "cell_type": "code",
   "execution_count": 82,
   "metadata": {},
   "outputs": [],
   "source": [
    "import math\n",
    "\n",
    "def _get_coprime(N):\n",
    "    i = 2\n",
    "    while i < N:\n",
    "        mcd = math.gcd(i,N)\n",
    "        if mcd == 1:\n",
    "            result = i\n",
    "            return result\n",
    "        i += 1\n",
    "\n",
    "def _int_to_bytes(integer_in: int) -> bytes:\n",
    "    \"\"\"Convert an integer to bytes\"\"\"\n",
    "    # Calculates the least amount of bytes the integer can be fit into\n",
    "    length = math.ceil(math.log(integer_in)/math.log(256))\n",
    "\n",
    "    return integer_in.to_bytes(length, 'big')"
   ]
  },
  {
   "cell_type": "code",
   "execution_count": 100,
   "metadata": {},
   "outputs": [],
   "source": [
    "class RSAReceiver:\n",
    "\n",
    "    def __init__(self, bit_len):\n",
    "        self.P = _generate_prime_number(bit_len //2)\n",
    "        self.Q = _generate_prime_number(bit_len //2)\n",
    "        self.N = self.P * self.Q\n",
    "        self.phi = (self.P - 1) * (self.Q - 1)\n",
    "        #print(self.N.bit_length())\n",
    "        self.d = _get_coprime(self.phi)\n",
    "        self.e = pow(self.d, -1, self.phi)\n",
    "\n",
    "    \n",
    "    def get_public_key(self):\n",
    "        key = bytearray()\n",
    "        e_bytes = _int_to_bytes(self.e)\n",
    "        N_bytes = _int_to_bytes(self.N)\n",
    "        key += len(e_bytes).to_bytes(4, 'big')\n",
    "        key += e_bytes\n",
    "        key += len(N_bytes).to_bytes(4, 'big')\n",
    "        key += N_bytes\n",
    "        return key\n",
    "\n",
    "    def decrypt(self, ciphertext):\n",
    "        c = int.from_bytes(ciphertext, 'big')\n",
    "        m = _int_to_bytes(pow(c, self.d, self.N))\n",
    "        return m.decode('utf-8')"
   ]
  },
  {
   "cell_type": "code",
   "execution_count": 101,
   "metadata": {},
   "outputs": [],
   "source": [
    "reciver = RSAReceiver(2048)"
   ]
  },
  {
   "cell_type": "code",
   "execution_count": 102,
   "metadata": {},
   "outputs": [],
   "source": [
    "key = reciver.get_public_key()"
   ]
  },
  {
   "cell_type": "code",
   "execution_count": 94,
   "metadata": {},
   "outputs": [
    {
     "data": {
      "text/plain": [
       "520"
      ]
     },
     "execution_count": 94,
     "metadata": {},
     "output_type": "execute_result"
    }
   ],
   "source": [
    "len(key)"
   ]
  },
  {
   "cell_type": "code",
   "execution_count": 57,
   "metadata": {},
   "outputs": [],
   "source": [
    "class RSASender:\n",
    "    def __init__(self, public_key):\n",
    "        self.public_key = public_key\n",
    "        self.e_len = int.from_bytes(public_key[0:4], 'big')\n",
    "        self.e = int.from_bytes(public_key[4:4+self.e_len], 'big')\n",
    "        self.N_len = int.from_bytes(public_key[4+self.e_len: 8+self.e_len], 'big')\n",
    "        self.N = int.from_bytes(public_key[8+self.e_len:], 'big')\n",
    "        self.n = (self.N.bit_length() -1) // 8\n",
    "        \"\"\"print(self.public_key)\n",
    "        print(self.e_len)\n",
    "        print(self.e)\n",
    "        print(self.N_len)\n",
    "        print(self.N)\"\"\"\n",
    "\n",
    "\n",
    "    def encrypt(self, message):\n",
    "        byte_message = bytearray(message, 'utf-8')\n",
    "        enc_message = bytearray()\n",
    "        i = 0\n",
    "        while i < len(byte_message):\n",
    "            b = byte_message[i: i+self.n] # Tomamos un bloque de size n\n",
    "            #print(i)\n",
    "            a = int.from_bytes(b, 'big') # convertimos b en un int\n",
    "            c = pow(a, self.e, self.N)\n",
    "            c = c.to_bytes(self.n + 1, 'big')\n",
    "            enc_message += c\n",
    "            i += self.n\n",
    "\n",
    "        \n",
    "        return enc_message\n"
   ]
  },
  {
   "cell_type": "markdown",
   "metadata": {},
   "source": [
    "Finalmente testeamos nuestro SOLUTION"
   ]
  },
  {
   "cell_type": "code",
   "execution_count": 103,
   "metadata": {},
   "outputs": [
    {
     "name": "stdout",
     "output_type": "stream",
     "text": [
      "197\n",
      "b'kZPadSZ7i2tpOHdSO7YGeI1Aq4a2+sl1ZUAmdzy3Xu7LPGEqtpeLwPNgq2NVaR0ZMHOAzEhUKYJM0lP5vtKLlnfMXNcA8dldKaHzWi6nPaw3MZdi+W8NeQOWtcJpx4Ko0PJAIipu3jw1elnfaEg7pqHMwBUpmadx8sgcKj6wDvB9yaSCIUM9xC1U2hmJ/QlOhkieugw/9MjS8IpKH1ULC8Q+46Lya37Ls5ioMZoznxxbdg7IGHlSfGZ0jiH9eg7cMkKqJkqn7RLROLJgC4veLqNN5Uj6o+EDIQparx8yOcGxJ+Tes02GiKHv9oDMrDRXMzMsxMtxs+wtOYrSkkYxgQ=='\n"
     ]
    }
   ],
   "source": [
    "from base64 import b64encode, b64decode\n",
    "public_key = b64decode('AAAAQQGHaihgiufnjzyLXufDjUCGuaHrsUL+hCF/pMFHPoh+ZVi/2bMFh6oelzElVklsJ9mglyQjJIKAb1JB9mvtaEkLAAAAQQHIuF+wIJw6uzq8uXpW/QmsNjtBJ8HCJJcu2h7sDX18nc2qWYDWTfMiXPmPRvhkkz4A0oXTAMDP9xsxUIjYQNsx')\n",
    "text = (\n",
    "    'Being open source means anyone can independently review '\n",
    "    'the code. If it was closed source, nobody could verify the '\n",
    "    'security. I think it’s essential for a program of this '\n",
    "    'nature to be open source.'\n",
    ")\n",
    "sender = RSASender(key)\n",
    "cipher = sender.encrypt(text)\n",
    "print(b64encode(cipher))\n",
    "#b64encode(cipher) == b'ALwPm7JXWbqGeIflV8PYgprs6mSgCH2Ydy0rgvFolzY0mczKItlPSHueL54uvDJXIz9pXoHZGAOPWVYYbcwRh3EBl8pi3MraUC2BBFUviMPFwNMwza/QMd5DNG9tH8doHlLRRt+15wLrsIE+m5T8fuM4HHixSNcEoOdN8T++q0PkzQDXL+UgbusiD3J+QPO59aqAB5HFcZ7P5U3fhFS8Qm1vLG8vlIulCby0jGLgjTtLUhFD/QhAof0y4F20gxedQDHwAOIrz6PEoBWnHmwLU0QNN0Rs542RvJ8BeEGhBDS5ZvD0/0Ix3ZqKT6HtP4ugfPD75/5LYGioJBwrg2DXbQucFj8='"
   ]
  },
  {
   "cell_type": "code",
   "execution_count": 104,
   "metadata": {},
   "outputs": [
    {
     "data": {
      "text/plain": [
       "'Being open source means anyone can independently review the code. If it was closed source, nobody could verify the security. I think it’s essential for a program of this nature to be open source.'"
      ]
     },
     "execution_count": 104,
     "metadata": {},
     "output_type": "execute_result"
    }
   ],
   "source": [
    "reciver.decrypt(cipher)"
   ]
  },
  {
   "cell_type": "code",
   "execution_count": null,
   "metadata": {},
   "outputs": [],
   "source": []
  }
 ],
 "metadata": {
  "interpreter": {
   "hash": "11938c6bc6919ae2720b4d5011047913343b08a43b18698fd82dedb0d4417594"
  },
  "kernelspec": {
   "display_name": "Python 3.9.1 64-bit",
   "language": "python",
   "name": "python3"
  },
  "language_info": {
   "codemirror_mode": {
    "name": "ipython",
    "version": 3
   },
   "file_extension": ".py",
   "mimetype": "text/x-python",
   "name": "python",
   "nbconvert_exporter": "python",
   "pygments_lexer": "ipython3",
   "version": "3.9.1"
  },
  "orig_nbformat": 4
 },
 "nbformat": 4,
 "nbformat_minor": 2
}
