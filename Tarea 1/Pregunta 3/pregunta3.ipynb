{
 "cells": [
  {
   "cell_type": "markdown",
   "metadata": {},
   "source": [
    "# Pregunta 3\n",
    "Aqui se realizará el desarrollo de la pregunta 3 de Jorge Facuse :D\n",
    "\n",
    "Primero se creará la clase Node y Leaf, las cuales nos servirán para más adelante crear el Merkle Tree. Notar que son estas las funciones que efectivamente implementan la obtención de la prueba, haciéndolo de manera recursiva."
   ]
  },
  {
   "cell_type": "code",
   "execution_count": 26,
   "metadata": {},
   "outputs": [],
   "source": [
    "class Node:\n",
    "    def __init__(self, direction, parent=None):\n",
    "        self.direction = direction\n",
    "        self.parent = parent\n",
    "\n",
    "    def set_sons(self, sons):\n",
    "        # Recibe una lista de hijos\n",
    "        self.sons = sons\n",
    "\n",
    "    def get_hash(self, hash_fn):    \n",
    "        return hash_fn(self.sons[0].get_hash(hash_fn) + self.sons[1].get_hash(hash_fn))\n",
    "\n",
    "    def get_bro(self, hash_fn):\n",
    "        if self.parent:\n",
    "            if self.direction == 'i':\n",
    "                return (self.parent.sons[1].get_hash(hash_fn), 'd')\n",
    "            else:\n",
    "                return (self.parent.sons[0].get_hash(hash_fn), 'i')\n",
    "        return False\n",
    "\n",
    "    def get_proof(self, hash_fn):\n",
    "        proof_list = []\n",
    "        bro = self.get_bro(hash_fn)\n",
    "        if bro:\n",
    "            proof_list.append(bro)\n",
    "            parent_proof = self.parent.get_proof(hash_fn)\n",
    "            return proof_list + parent_proof\n",
    "        return proof_list\n",
    "\n",
    "class Leaf:\n",
    "    def __init__(self, direction, parent, string):\n",
    "        self.direction = direction\n",
    "        self.parent = parent\n",
    "        self.string = string\n",
    "    \n",
    "    def get_hash(self, hash_fn):\n",
    "        return hash_fn(self.string)\n",
    "\n",
    "    def get_bro(self, hash_fn):\n",
    "        if self.direction == 'i':\n",
    "            return (self.parent.sons[1].get_hash(hash_fn), 'd')\n",
    "        else:\n",
    "            return (self.parent.sons[0].get_hash(hash_fn), 'i')\n",
    "\n",
    "    def get_proof(self, hash_fn):\n",
    "        proof_list = [self.get_bro(hash_fn)]\n",
    "        parent_proof = self.parent.get_proof(hash_fn)\n",
    "        return proof_list + parent_proof\n"
   ]
  },
  {
   "cell_type": "markdown",
   "metadata": {},
   "source": [
    "Ahora creamos la clase Merkle Tree. Su funcionamiento es el siguiente: Primero crea el árbol con nodes hasta asegurarse que en el último nivel quepan todos los strings. Luego, rellena el último nivel con los strings, y si se queda sin strings va rellenando con los últimos 2 strings, de manera que siempre se pueda calcular el hash y de el mismo cuando corresponda.\n",
    "\n",
    "Con esto, implementar get root y get proof es trivial."
   ]
  },
  {
   "cell_type": "code",
   "execution_count": 33,
   "metadata": {},
   "outputs": [],
   "source": [
    "class MerkleTree :\n",
    "    def __init__ ( self , strings, hash_func) :\n",
    "        \"\"\"\n",
    "        Arguments :\n",
    "        strings : The set of strings S\n",
    "        \"\"\"\n",
    "        self.strings = strings\n",
    "        self.hash = hash_func\n",
    "        if len(self.strings) % 2 == 1:\n",
    "            self.strings.append(self.strings[-1]) # Si es impar, metemos el ultimo de nuevo\n",
    "        self.root = Node('root')\n",
    "        i = 1\n",
    "        next_level_nodes = []\n",
    "        curr_level_nodes = [self.root]\n",
    "        while 2**i < len(self.strings):\n",
    "            # Partimos construyendo el arbol desde la raiz\n",
    "            for node in curr_level_nodes:\n",
    "                # Creamos un nodo izquierdo y uno derecho\n",
    "                right = Node('d', node)\n",
    "                left = Node('i', node)\n",
    "                next_level_nodes.append(left)\n",
    "                next_level_nodes.append(right)\n",
    "                node.set_sons([left,right])\n",
    "            curr_level_nodes = next_level_nodes\n",
    "            next_level_nodes = []\n",
    "            i += 1\n",
    "        # Una vez terminamos ese while, quedamos en un nivel en donde el siguiente seran solo hojas\n",
    "        self.string_to_leaf = {}\n",
    "        i = 0\n",
    "        # Comenzamos a rellenar con hojas el arbol\n",
    "        for node in curr_level_nodes:\n",
    "            if i < len(self.strings):\n",
    "                right = Leaf('d', node, self.strings[i+1])\n",
    "                left = Leaf('i', node, self.strings[i])\n",
    "                self.string_to_leaf[self.strings[i+1]] = right # Guardamos en que hojas tenemos a nuestros strings\n",
    "                self.string_to_leaf[self.strings[i]] = left\n",
    "                node.set_sons([left,right])\n",
    "                i += 2\n",
    "            # Siempre van a ser una cantidad de hojas pares, por lo que si nos quedan nodos sin hojas vamos rellenando con las ultimas 2. Asi se cumple que el hash sea el mismo\n",
    "            else:\n",
    "                right = Leaf('d', node, self.strings[-1])\n",
    "                left = Leaf('i', node, self.strings[-2])\n",
    "                node.set_sons([left,right])\n",
    "\n",
    "        \n",
    "    def get_root ( self ) :\n",
    "        \"\"\"\n",
    "        Returns :\n",
    "        root : Root of the Merkle Tree RETORNA EL HASH\n",
    "        \"\"\"\n",
    "        return self.root.get_hash(self.hash)\n",
    "    def get_proof_for ( self , item : str ):\n",
    "        \"\"\"\n",
    "        Returns :\n",
    "        result : None if the item is not part of the leafs of the tree\n",
    "        A list with the necessary info to prove that the\n",
    "        item is part of the leafs of the tree\n",
    "        \"\"\"\n",
    "        if not item in self.strings:\n",
    "            return None\n",
    "        item_node = self.string_to_leaf[item]\n",
    "        return item_node.get_proof(self.hash)\n",
    "        "
   ]
  },
  {
   "cell_type": "markdown",
   "metadata": {},
   "source": [
    "Definimos una funcion de hash sencilla usando la funcion hash de python para testear"
   ]
  },
  {
   "cell_type": "code",
   "execution_count": 7,
   "metadata": {},
   "outputs": [],
   "source": [
    "def simple_hash(string):\n",
    "    return str(hash(string))"
   ]
  },
  {
   "cell_type": "code",
   "execution_count": 37,
   "metadata": {},
   "outputs": [],
   "source": [
    "tree = MerkleTree(['y', 'que','pasa','le','pregunte', 'por', 'wasa', 'no', 'se', 'quemas', 'viene'], simple_hash)"
   ]
  },
  {
   "cell_type": "code",
   "execution_count": 38,
   "metadata": {},
   "outputs": [
    {
     "data": {
      "text/plain": [
       "[('-6709474068208483061', 'i'),\n",
       " ('-3286259426596940793', 'i'),\n",
       " ('4586144136951340762', 'd'),\n",
       " ('-5700178602063967186', 'd')]"
      ]
     },
     "execution_count": 38,
     "metadata": {},
     "output_type": "execute_result"
    }
   ],
   "source": [
    "tree.get_proof_for('le')"
   ]
  },
  {
   "cell_type": "markdown",
   "metadata": {},
   "source": [
    "Ahora creamos la función verify. Notemos que esta función asume una proof en el orden correcto, es decir que primero de el hash del hermano de la hoja, luego el del hermano del padre y asi sucesivamente (tal y como se obtiene de get_proof_for)."
   ]
  },
  {
   "cell_type": "code",
   "execution_count": 44,
   "metadata": {},
   "outputs": [],
   "source": [
    "def verify(\n",
    "    root,\n",
    "    item: str,\n",
    "    proof,\n",
    "    hash_func\n",
    ") -> bool:\n",
    "\n",
    "    \"\"\"\n",
    "    Arguments :\n",
    "    root : The root of a merkle tree\n",
    "    item : An abritrary string\n",
    "    proof : An alleged proof that item is part of a Merkle\n",
    "    tree with root root\n",
    "    hash_func : An arbitrary hash function\n",
    "    Returns :\n",
    "    correct : whether the proof is correct or not\n",
    "    \"\"\"\n",
    "    to_eval = hash_func(item)\n",
    "    \n",
    "    # Se asume que \n",
    "    for proof_item in proof:\n",
    "        if proof_item[1] == 'i':\n",
    "            to_eval = hash_func(proof_item[0] + to_eval)\n",
    "        else:\n",
    "            to_eval = hash_func(to_eval + proof_item[0])\n",
    "    return to_eval == root\n"
   ]
  },
  {
   "cell_type": "code",
   "execution_count": 46,
   "metadata": {},
   "outputs": [
    {
     "name": "stdout",
     "output_type": "stream",
     "text": [
      "[('-6709474068208483061', 'i'), ('-3286259426596940793', 'i'), ('4586144136951340762', 'd'), ('-5700178602063967186', 'd')] 2321299573829070902\n",
      "[('-6709474068208483061', 'i'), ('-3286259426596940793', 'i'), ('4586144136951340762', 'd'), ('-5700178602063967186', 'd')] -2312340029754931672\n",
      "True\n",
      "[('-6709474068208483061', 'i'), ('-3286229426596940793', 'i'), ('4586144136951340762', 'd'), ('-5700178602063967186', 'd')] -9016507504311716024\n",
      "[('-6709474068208483061', 'i'), ('-3286229426596940793', 'i'), ('4586144136951340762', 'd'), ('-5700178602063967186', 'd')] -881445457956480946\n",
      "False\n"
     ]
    }
   ],
   "source": [
    "root = tree.get_root()\n",
    "print(verify(root, 'le', [('-6709474068208483061', 'i'),\n",
    "                          ('-3286259426596940793', 'i'),\n",
    "                          ('4586144136951340762', 'd'),\n",
    "                          ('-5700178602063967186', 'd')], simple_hash)) # Esto deberia dar correcto\n",
    "print(verify(root, 'le', [('-6709474068208483061', 'i'),\n",
    "                          ('-3286229426596940793', 'i'),\n",
    "                          ('4586144136951340762', 'd'),\n",
    "                          ('-5700178602063967186', 'd')], simple_hash)) # Esto deberia dar falso"
   ]
  },
  {
   "cell_type": "code",
   "execution_count": null,
   "metadata": {},
   "outputs": [],
   "source": []
  }
 ],
 "metadata": {
  "interpreter": {
   "hash": "ac59ebe37160ed0dfa835113d9b8498d9f09ceb179beaac4002f036b9467c963"
  },
  "kernelspec": {
   "display_name": "Python 3.9.1 64-bit",
   "language": "python",
   "name": "python3"
  },
  "language_info": {
   "codemirror_mode": {
    "name": "ipython",
    "version": 3
   },
   "file_extension": ".py",
   "mimetype": "text/x-python",
   "name": "python",
   "nbconvert_exporter": "python",
   "pygments_lexer": "ipython3",
   "version": "3.9.1"
  },
  "orig_nbformat": 4
 },
 "nbformat": 4,
 "nbformat_minor": 2
}
