{
 "cells": [
  {
   "cell_type": "markdown",
   "metadata": {},
   "source": [
    "Primero definimos una encriptacion del tipo repeated pad "
   ]
  },
  {
   "cell_type": "code",
   "execution_count": 113,
   "metadata": {},
   "outputs": [],
   "source": [
    "def encript(message, key, n_alphabet):\n",
    "    # Asumimos que tanto el mensaje como la llave vienen codificadas de una manera numerica\n",
    "    enc_message = [] # Retornaremos el mensaje encriptado como una lista\n",
    "    for i in range(len(message)):\n",
    "        enc_val = message[i] + key[i % len(key)]\n",
    "        enc_message.append(enc_val % n_alphabet)\n",
    "    return enc_message\n",
    "\n",
    "def decript(enc_msg, key, n_alfabet):\n",
    "    message = [] # Retornaremos el mensaje encriptado como una lista\n",
    "    for i in range(len(enc_msg)):\n",
    "        dec_val = enc_msg[i] - key[i % len(key)]\n",
    "        message.append(dec_val % n_alfabet)\n",
    "    return message"
   ]
  },
  {
   "cell_type": "code",
   "execution_count": 5,
   "metadata": {},
   "outputs": [
    {
     "name": "stdout",
     "output_type": "stream",
     "text": [
      "[1, 4, 7, 4, 8, 0]\n",
      "[0, 2, 4, 3, 6, 7]\n"
     ]
    }
   ],
   "source": [
    "e = encript([0,2,4,3,6,7], [1,2,3], 10) # Usamos alfabeto solo de 0-9\n",
    "print(e)\n",
    "d = decript(e, [1,2,3], 10)\n",
    "print(d)"
   ]
  },
  {
   "cell_type": "markdown",
   "metadata": {},
   "source": [
    "Como se puede chequear la encriptacion funciona como corresponde: \n",
    "\n",
    "0 + 1 mod 10 = 1\n",
    "\n",
    "2 + 2 mod 10 = 4\n",
    "\n",
    "...\n",
    "\n",
    "7 + 3 mod 10 = 0\n",
    "\n",
    "Y de la misma forma la decriptación devuelve el mensaje original.\n",
    "\n",
    "Definimos ahora métodos de utilidad para convertir un string cualquiera a una lista de numeros"
   ]
  },
  {
   "cell_type": "code",
   "execution_count": 36,
   "metadata": {},
   "outputs": [],
   "source": [
    "def codify_message(message, frequencies):\n",
    "    # Esta funcion recibe el mismo arreglo de frequencias que break_rp\n",
    "    mapping_dict = {}\n",
    "    revert_dict = {}\n",
    "    i = 0\n",
    "    for key in sorted(frequencies.keys()):\n",
    "        mapping_dict[key] = i\n",
    "        revert_dict[i] = key\n",
    "        i += 1\n",
    "    \n",
    "    new_message = []\n",
    "    \n",
    "    for j in message:\n",
    "        new_message.append(mapping_dict[j])\n",
    "\n",
    "    return new_message, mapping_dict, revert_dict"
   ]
  },
  {
   "cell_type": "code",
   "execution_count": 37,
   "metadata": {},
   "outputs": [
    {
     "name": "stdout",
     "output_type": "stream",
     "text": [
      "[1, 2, 1, 2, 1, 3, 0, 3, 0, 1, 2, 1, 2, 1, 3, 0, 3, 0, 1, 2, 1, 2, 1, 3, 0, 3, 0, 1, 2, 1, 2, 1, 3, 0, 3, 0, 1, 2, 1, 2, 1, 3, 0, 3, 0, 1, 2, 1, 2, 1, 3, 0, 3, 0, 1, 2, 1, 2, 1, 3, 0, 3, 0, 1, 2, 1, 2, 1, 3, 0, 3, 0, 1, 2, 1, 2, 1, 3, 0, 3, 0, 1, 2, 1, 2, 1, 3, 0, 3, 0]\n",
      "LOLOLXDXDLOLOLXDXDLOLOLXDXDLOLOLXDXDLOLOLXDXDLOLOLXDXDLOLOLXDXDLOLOLXDXDLOLOLXDXDLOLOLXDXD\n"
     ]
    }
   ],
   "source": [
    "c, mapping_dict, revert_dict = codify_message('LOLOLXDXD'*10, {'L': 0.25, 'O': 0.25, 'X': 0.25, 'D': 0.25})\n",
    "print(c)\n",
    "original = \"\".join(list(map(lambda x: revert_dict[x], c)))\n",
    "print(original)"
   ]
  },
  {
   "cell_type": "markdown",
   "metadata": {},
   "source": [
    "Ahora ya que podemos encriptar mensajes arbitrarios, procedemos a romper la cosa.\n",
    "\n",
    "Primero definimos una funcion que nos ayudara a estimar el mejor largo de la llave. Básicamente lo que hacemos es, para todos los largos posibles de llave, buscar un conjunto que debiese estar cifrado por la misma llave. Luego, ordenamos la lista de las frecuencias y vamos comparando con las obtenidas en el conjunto. Si tienen sentido, la distancia debiera ser muy baja "
   ]
  },
  {
   "cell_type": "code",
   "execution_count": 103,
   "metadata": {},
   "outputs": [],
   "source": [
    "def get_key_len(array, frequencies):\n",
    "    max_key_length = len(array) //50\n",
    "    best = None\n",
    "    dist = 100000\n",
    "    for i in range(max_key_length):\n",
    "        sub_msg = array[::i+1]\n",
    "        counts = sorted([sub_msg.count(val) / len(sub_msg) for val in sorted(frequencies.keys())])\n",
    "        dist_to_max = 0\n",
    "        ground_truth = sorted(frequencies.values())\n",
    "        for j in range(len(counts)):\n",
    "            dist_to_max += abs(counts[j] - ground_truth[j])\n",
    "        #print(i, dist_to_max)   \n",
    "        if dist_to_max < dist:\n",
    "            dist = dist_to_max\n",
    "            best = i+1\n",
    "    return best"
   ]
  },
  {
   "cell_type": "code",
   "execution_count": 47,
   "metadata": {},
   "outputs": [
    {
     "name": "stdout",
     "output_type": "stream",
     "text": [
      "[20, 30, 20, 20] 30\n",
      "0.3333333333333333\n"
     ]
    }
   ],
   "source": [
    "get_key_len(c, {'L': 0.25, 'O': 0.25, 'X': 0.25, 'D': 0.25}, mapping_dict)"
   ]
  },
  {
   "cell_type": "markdown",
   "metadata": {},
   "source": [
    "Teniendo eso es trivial hacer el ejercicio. Utilizando el acercamiento visto en clases, vamos comparando los conjuntos de letras que se encriptan con lo mismo y vemos, utilizando la funcion de distancia, si tiene sentido o no. Se elige la letra que mejor se ajuste y listo"
   ]
  },
  {
   "cell_type": "code",
   "execution_count": 106,
   "metadata": {},
   "outputs": [],
   "source": [
    "def break_rp(\n",
    "    ciphertext,\n",
    "    frequencies,\n",
    "    distance,\n",
    ") -> str:\n",
    "\n",
    "    \"\"\"\n",
    "    Arguments :\n",
    "    ciphertext : An abritrary string representing the\n",
    "    encrypted version of a plaintext .\n",
    "    frequencies : A dictionary representing a character\n",
    "    frequency over the alphabet .\n",
    "    distance : A function indicating how distant is a string\n",
    "    from following a character frequency\n",
    "    Returns :\n",
    "    key : A guess of the key used to encrypt the ciphertext , assuming\n",
    "    that the plaintext message was written in a language in which\n",
    "    letters distribute according to frequencies .\n",
    "    \"\"\"\n",
    "    # Transformamos nuestro string a una lista\n",
    "    codified_text, map_dict, rev_dict = codify_message(ciphertext, frequencies)\n",
    "\n",
    "    # Primero nos gustaria saber que tan larga es la llave.\n",
    "    key_len = get_key_len(ciphertext, frequencies)\n",
    "    alphabet = sorted(frequencies.keys())\n",
    "    print(key_len)\n",
    "    key = \"\"\n",
    "    for i in range(key_len):\n",
    "        dist = 10000\n",
    "        letter = None\n",
    "        for j in alphabet:\n",
    "            # Asumimos que j es la primera pos de la llave\n",
    "            c_j = map_dict[j]\n",
    "            # Obtenemos las letras en donde debiese usarse dicha llave\n",
    "            segment = codified_text[i::key_len]\n",
    "            # Decodificamos el mensaje\n",
    "            dec = decript(segment, [c_j], len(alphabet))\n",
    "            # mapeamos el mensaje a un string\n",
    "            msg = \"\".join(map(lambda x: rev_dict[x], dec))\n",
    "            # Utilizando la funcion de distancia comparamos\n",
    "            curr_dist = distance(msg, frequencies)\n",
    "            if curr_dist < dist:\n",
    "                dist = curr_dist\n",
    "                letter = j\n",
    "        key += letter\n",
    "    print('Predigo que la llave es:', key)\n",
    "    return key\n",
    "\n"
   ]
  },
  {
   "cell_type": "code",
   "execution_count": null,
   "metadata": {},
   "outputs": [],
   "source": []
  },
  {
   "cell_type": "code",
   "execution_count": 67,
   "metadata": {},
   "outputs": [],
   "source": [
    "def abs_distance ( string , frequencies) -> float :\n",
    "    \"\"\"\n",
    "    Arguments :\n",
    "    string : An abritrary string\n",
    "    frequencies : A dictionary representing a character frequency\n",
    "    Returns :\n",
    "    distance : How distant is the string from the character frequency\n",
    "    \"\"\"\n",
    "    return sum([\n",
    "    abs ( frequencies [c] - string . count ( c ) / len ( string ) )\n",
    "    for c in frequencies\n",
    "    ])\n"
   ]
  },
  {
   "cell_type": "code",
   "execution_count": 57,
   "metadata": {},
   "outputs": [],
   "source": [
    "# Creamos una utilidad para generar una palabra random con cierta distribucion\n",
    "import random\n",
    "def createWord(n, frequencies):\n",
    "    return \"\".join(random.choices(list(frequencies.keys()), weights=list(frequencies.values()), k=n))"
   ]
  },
  {
   "cell_type": "code",
   "execution_count": 112,
   "metadata": {},
   "outputs": [
    {
     "name": "stdout",
     "output_type": "stream",
     "text": [
      "Mensaje normal: LDDDDODLDDDDLDODDDDDDLLLDODDDDDDDDDDDDDLDDDDDODDLLDDDDDDDDDDDDDDDDLDDLODDDDDDLDLDXLDDLDLLLDLDODDDDLXDLDDDDDLDLLDDDDDLDODLDODDDLLDDDDDDODXLDDDDODDDDDDODDLDDDODDDDDDODLDDDLDDDLDDDLDXDODDDDDDLLLDDDDODLDDDLDDLDLDLDLDDLDODLDDLLDDDODLDDLDLDDDDDLODDDXDLDDDLDDDLXLLXLDXDDLLDDDLDLDXDDDDDODDLDDDDLLLLODODLXDLDDDDDLLDODLODDLDDDLDDDDDDDDDLDDDDLDLDDDDDODDDDLLDDLODDDDLDDDDDDDDLLDDDDDXDLDDDXDDDDDDDDDLDDDOLDDDDDDDDDLXDLDDDLDDDODDDDDDDDDDXLLDLDDDDDDDDDDOLLDDDDLLDDDDDXLLDDDDDDDOLDXLODDLDDDDDDLDLXDDDLDDLDDXODDOLDDLDDLDDDDOLDDDDLDDDDDDLDXDLDDDDDDDDDDDDDLODDLLDLDDDDDDDLDDLDDDDDDDDDDDDDXDXDDLDLOLDLDDLDLLDDDDDDDOLXDDLOLLDDXDLDDDDDLDLDDOLDODDLDDLDLLDDDDDDOODDDDDODDDDDLDDXDDDDDDLDDDXDDDLDDDDLLDDDDLDDDXDDDDDDDDLODLDDDXDDLDDLDDLDLLODDDODDDDDXDDDDLDXLDDDDDDLDDDDDLDDDLDLDDDDDDLLDDLDDLDDDDDDXXDLDLDLDDDDDDLDDODODDLDDDDLDDDDDDLDLDLLDDODDDODDDDDDDDDDDDLDDDDDXDDDLDDLDDDDDLDDDDLDDLDDOOLLDLDXDDDDLLDLDDLDDDLODDDLXDDDDDOXLDDDDXDLXDDDLDDLDLLDDLXDDDLLLLXDDOOLXDDDLLDLDLDDDDDDDDDDDDDDDDDDXDLLDDDDDDDDDDDLLDDLDDDDDDDDDDODDDDDLDDLL\n",
      "Mensaje Cifrado OOLXDDLXLXDOOOXXDOLOLDLXLDLXDOLOLXDOLOLDDOLOLLDOOXLXDOLOLXDOLOLXDOOOLDOOLOLXDXLXLOLOLXLDLXLXLLDOLOOODXLOLXDXLXOXDOLOOXOOOOXXDOOXLXDOLOXXXXLOLXOOLOLXDDLOOXDOXOLXDOLDLDDOLXLXDXLOLDDLLDLXDOLOODLOLOLLDXLOLDDOOOOXLOOOLDDDLXLXLXLOLLDXLOOXLOLOLXLDLOLODXLOLDDOLXDDLLOODXDXOOLXLOOODXDOLOXXDXLOLXLXOXXXOOOLLDDOLOLDLOXOOLDOOOLXLOLOLXDOLOOXDOLXLDDOLOLLDOLOODDOODLXDOOOLXDOLOLDLOLOLXXOOOLXXOLOLXDOLOOXDOXXLXDOLOLXDXDOOXDOOOLXOOLOLXDOLOLOLXLXLXDOLOLXDOXXOXDOLXOXDOLODDLOLOLXDOXXLOLDLOOXDOLOLDDXDOLXLOLXLXXDLOXDDOOOLDDOLOXDDOLOOXDOLOLDDLLXLXDOLOLXDOLOLDOOLXOXLOLOLXDOOOLDDOLOLXDOLOLXDLLLLXLOODOXLOLXLDLOLOLXDOXXDXDXXXOXDLLXLXDOLXLDDOXXLLDOOOLDDXOOLXDOLDXXDOLOXXDOLOOXDLLOLXDOOOLXXOLOOXDOLXOXDOLXLXDLLOLXDOLOOLDXLOLODOOOLDDOOOODOOLOXXDOLODXDOLXLOLOLOLXDXLOLXDXLOLDDXLOLXDOOXLXLOLXLXDOLODODXLXLDDOLOLXLOLDLLDOOOLXDXLOLXDOOOOXLXLOXXDOXOLXDOLOLXDOLXLXDOLLLXDXLOOXDOLOOXDOLXLXLOLDXDLOOODXDOLXOXLOLXLXDXXOLXLLLOLXDDDXLXDODOOODOLXLXLOOXLXLLLOLDLXOLLXODOLLXDXOOOXLOLOLXDOLOLXDOLOLXDLLXOXDOLOLXDOLOODDOOOLXDOLOLXDDLOLXDXLOOD\n",
      "6\n",
      "Predigo que la llave es: LOLXDO\n"
     ]
    },
    {
     "data": {
      "text/plain": [
       "'LOLXDO'"
      ]
     },
     "execution_count": 112,
     "metadata": {},
     "output_type": "execute_result"
    }
   ],
   "source": [
    "f = {'L': 0.2, 'O': 0.06, 'X': 0.04, 'D': 0.7}\n",
    "w = createWord(1000, f)\n",
    "print('Mensaje normal:',w)\n",
    "k = 'LOLXDO'\n",
    "m, mapdict, revdict = codify_message(w, f)\n",
    "k_c = []\n",
    "for j in k:\n",
    "    k_c.append(mapdict[j])\n",
    "c = encript(m, k_c, len(f))\n",
    "c_final = \"\".join(map(lambda x: revdict[x], c))\n",
    "print('Mensaje Cifrado',c_final)\n",
    "break_rp(c_final, f, abs_distance)\n",
    "\n"
   ]
  },
  {
   "cell_type": "code",
   "execution_count": null,
   "metadata": {},
   "outputs": [],
   "source": []
  }
 ],
 "metadata": {
  "interpreter": {
   "hash": "ac59ebe37160ed0dfa835113d9b8498d9f09ceb179beaac4002f036b9467c963"
  },
  "kernelspec": {
   "display_name": "Python 3.9.1 64-bit",
   "language": "python",
   "name": "python3"
  },
  "language_info": {
   "codemirror_mode": {
    "name": "ipython",
    "version": 3
   },
   "file_extension": ".py",
   "mimetype": "text/x-python",
   "name": "python",
   "nbconvert_exporter": "python",
   "pygments_lexer": "ipython3",
   "version": "3.9.1"
  },
  "orig_nbformat": 4
 },
 "nbformat": 4,
 "nbformat_minor": 2
}
